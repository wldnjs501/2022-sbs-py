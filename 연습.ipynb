{
 "cells": [
  {
   "cell_type": "code",
   "execution_count": 14,
   "metadata": {},
   "outputs": [
    {
     "name": "stdout",
     "output_type": "stream",
     "text": [
      "{'1월': 31, '2월': 28, '3월': 31}\n"
     ]
    }
   ],
   "source": [
    "# 문제 : 딕셔너리에 각 달의 마지막 날들을 한번에 담기\n",
    "# 조건 : 1월 ~ 3월까지\n",
    "# 조건 : 2월의 마지막은 28일로 함\n",
    "# 조건 : 첫 데이터의 key는 \"1월\", value는 31일\n",
    "\n",
    "\n",
    "day={\"1월\":31, \"2월\":28, \"3월\":31}\n",
    "\n",
    "print(day)\n"
   ]
  },
  {
   "cell_type": "code",
   "execution_count": 36,
   "metadata": {},
   "outputs": [
    {
     "name": "stdout",
     "output_type": "stream",
     "text": [
      "{'1월': 31, '2월': 28, '3월': 31, '4월': 30, '5월': 31, '6월': 30, '7월': 31, '8월': 31, '9월': 30, '10월': 31, '11월': 30, '12월': 31}\n"
     ]
    }
   ],
   "source": [
    "# 문제 : 딕셔너리에 각 달의 마지막 날들을 반복문을 통해 담기\n",
    "month = {}\n",
    "for i in range(12):\n",
    "    if i+1 == 2:\n",
    "        month[str(i+1)+\"월\"] = 28\n",
    "        \n",
    "    elif i+1 in [4, 6, 9, 11]:\n",
    "        month[str(i+1)+\"월\"] = 30\n",
    "    \n",
    "    else: \n",
    "        month[str(i+1)+\"월\"] = 31\n",
    "print(month)\n",
    " \n",
    "\n"
   ]
  },
  {
   "cell_type": "code",
   "execution_count": 47,
   "metadata": {},
   "outputs": [
    {
     "name": "stdout",
     "output_type": "stream",
     "text": [
      "1월31일\n",
      "2월28일\n",
      "3월31일\n",
      "4월30일\n",
      "5월31일\n",
      "6월30일\n",
      "7월31일\n",
      "8월31일\n",
      "9월30일\n",
      "10월31일\n",
      "11월30일\n",
      "12월31일\n"
     ]
    }
   ],
   "source": [
    "# 문제 : 딕셔너리에 각 달의 마지막 날들을 한번에 담고, 수작업으로 순회출력\n",
    "month = {}\n",
    "for i in range(12):\n",
    "    if i+1 == 2:\n",
    "        month[str(i+1)+\"월\"] = 28\n",
    "        \n",
    "    elif i+1 in [4, 6, 9, 11]:\n",
    "        month[str(i+1)+\"월\"] = 30\n",
    "    \n",
    "    else: \n",
    "        month[str(i+1)+\"월\"] = 31\n",
    "        \n",
    "for i in range(len(month)):\n",
    "    print(list(month.keys())[i] + str(list(month.values())[i]) + \"일\")"
   ]
  },
  {
   "cell_type": "code",
   "execution_count": null,
   "metadata": {},
   "outputs": [],
   "source": []
  }
 ],
 "metadata": {
  "interpreter": {
   "hash": "e83a428c6c8fcb1abbacc30357eeb79d23e3f9a11c63a468d8556bfb3c44429b"
  },
  "kernelspec": {
   "display_name": "Python 3.10.2 64-bit",
   "language": "python",
   "name": "python3"
  },
  "language_info": {
   "codemirror_mode": {
    "name": "ipython",
    "version": 3
   },
   "file_extension": ".py",
   "mimetype": "text/x-python",
   "name": "python",
   "nbconvert_exporter": "python",
   "pygments_lexer": "ipython3",
   "version": "3.10.2"
  },
  "orig_nbformat": 4
 },
 "nbformat": 4,
 "nbformat_minor": 2
}
